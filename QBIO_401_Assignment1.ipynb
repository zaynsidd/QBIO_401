{
  "nbformat": 4,
  "nbformat_minor": 0,
  "metadata": {
    "colab": {
      "provenance": [],
      "authorship_tag": "ABX9TyMY3IDVOJyNou89Y9gW7Nqn",
      "include_colab_link": true
    },
    "kernelspec": {
      "name": "python3",
      "display_name": "Python 3"
    },
    "language_info": {
      "name": "python"
    }
  },
  "cells": [
    {
      "cell_type": "markdown",
      "metadata": {
        "id": "view-in-github",
        "colab_type": "text"
      },
      "source": [
        "<a href=\"https://colab.research.google.com/github/zaynsidd/QBIO_401/blob/main/QBIO_401_Assignment1.ipynb\" target=\"_parent\"><img src=\"https://colab.research.google.com/assets/colab-badge.svg\" alt=\"Open In Colab\"/></a>"
      ]
    },
    {
      "cell_type": "code",
      "execution_count": null,
      "metadata": {
        "id": "l3-DKF-42UyX"
      },
      "outputs": [],
      "source": [
        "#Question 1\n",
        "def base_count(seq):\n",
        "  tracker = [0]*4\n",
        "  for char in seq:\n",
        "    if char == 'A':\n",
        "      tracker[0] += 1\n",
        "    elif char == 'C':\n",
        "      tracker[1] += 1\n",
        "    elif char == 'G':\n",
        "      tracker[2] += 1\n",
        "    elif char == 'T':\n",
        "      tracker[3] += 1\n",
        "  return tracker"
      ]
    },
    {
      "cell_type": "code",
      "source": [
        "#Question 2\n",
        "def pair_count(seq, pair):\n",
        "  tracker = 0\n",
        "  for i in range(len(seq)-1):\n",
        "    if seq[i:i+2] == pair:\n",
        "      tracker += 1\n",
        "  return tracker"
      ],
      "metadata": {
        "id": "dxZpHMl-2_f4"
      },
      "execution_count": null,
      "outputs": []
    },
    {
      "cell_type": "code",
      "source": [
        "#Question 3\n",
        "def double_base_count(seq):\n",
        "  tracker = [0]*16\n",
        "  bases = ['AA', 'AC', 'AG', 'AT', 'CA', 'CC', 'CG', 'CT',\n",
        "           'GA', 'GC', 'GG', 'GT', 'TA', 'TC', 'TG', 'TT']\n",
        "  bases_counter = dict(zip(bases, tracker))\n",
        "  for i in range(len(seq)-1):\n",
        "    bases_counter[seq[i:i+2]] += 1\n",
        "  bclist = list(bases_counter.values())\n",
        "  return bclist"
      ],
      "metadata": {
        "id": "_OPQyMq74OgL"
      },
      "execution_count": null,
      "outputs": []
    },
    {
      "cell_type": "code",
      "source": [
        "def loadFASTA(filename):\n",
        "    '''Outputs a sequence string from the FASTA file named filename'''\n",
        "    infile = open(filename) # opens the file\n",
        "    seqlist = [] # empty list\n",
        "    temp = infile.readline() # reads a single line\n",
        "                             # we don't want the first line\n",
        "                             # of the FASTA file \">...\"\n",
        "    for line in infile: # reads one line at a time\n",
        "                        # when it gets to the end of the file it stops\n",
        "        temp = line.replace(\"\\n\",\"\") # removes \\n\n",
        "        temp = temp.replace(\"\\r\",\"\") # removes \\r too\n",
        "        seqlist.append(temp)\n",
        "    infile.close() # closes the file\n",
        "    seq = \"\".join(seqlist) # combines the list into a string\n",
        "    return seq"
      ],
      "metadata": {
        "id": "YR89DCQi7LDm"
      },
      "execution_count": null,
      "outputs": []
    },
    {
      "cell_type": "code",
      "source": [
        "seq1 = loadFASTA('/content/qbio_401_drosophila2_hw1.fasta')\n",
        "seq2 = loadFASTA('/content/qbio_401_sequence_hw1.fasta')"
      ],
      "metadata": {
        "id": "4CQBlKxd8geH"
      },
      "execution_count": null,
      "outputs": []
    },
    {
      "cell_type": "code",
      "source": [
        "base_count(seq1)"
      ],
      "metadata": {
        "colab": {
          "base_uri": "https://localhost:8080/"
        },
        "id": "AXyir34m8tXP",
        "outputId": "765c1a6d-55b6-4626-e1f9-dda84a8f2e73"
      },
      "execution_count": null,
      "outputs": [
        {
          "output_type": "execute_result",
          "data": {
            "text/plain": [
              "[2395, 1876, 1675, 1718]"
            ]
          },
          "metadata": {},
          "execution_count": 11
        }
      ]
    },
    {
      "cell_type": "code",
      "source": [
        "base_count(seq2)"
      ],
      "metadata": {
        "colab": {
          "base_uri": "https://localhost:8080/"
        },
        "id": "L6c60fgO84ZE",
        "outputId": "6feb0bc1-5872-452b-97d0-2bcee1fd9472"
      },
      "execution_count": null,
      "outputs": [
        {
          "output_type": "execute_result",
          "data": {
            "text/plain": [
              "[1773, 1139, 1410, 1751]"
            ]
          },
          "metadata": {},
          "execution_count": 12
        }
      ]
    },
    {
      "cell_type": "code",
      "source": [
        "double_base_count(seq1)"
      ],
      "metadata": {
        "colab": {
          "base_uri": "https://localhost:8080/"
        },
        "id": "FBsOhzOO87Hi",
        "outputId": "b182cdd7-682b-4f1c-d0fb-0fe4aec3880c"
      },
      "execution_count": null,
      "outputs": [
        {
          "output_type": "execute_result",
          "data": {
            "text/plain": [
              "[870,\n",
              " 521,\n",
              " 481,\n",
              " 523,\n",
              " 621,\n",
              " 452,\n",
              " 455,\n",
              " 348,\n",
              " 499,\n",
              " 501,\n",
              " 323,\n",
              " 352,\n",
              " 404,\n",
              " 402,\n",
              " 416,\n",
              " 495]"
            ]
          },
          "metadata": {},
          "execution_count": 13
        }
      ]
    },
    {
      "cell_type": "code",
      "source": [
        "double_base_count(seq2)"
      ],
      "metadata": {
        "colab": {
          "base_uri": "https://localhost:8080/"
        },
        "id": "TuBF239489yw",
        "outputId": "2bc3a9fb-0535-4937-fde4-6a499feb311a"
      },
      "execution_count": null,
      "outputs": [
        {
          "output_type": "execute_result",
          "data": {
            "text/plain": [
              "[595, 280, 459, 438, 394, 275, 99, 371, 443, 276, 355, 336, 340, 308, 497, 606]"
            ]
          },
          "metadata": {},
          "execution_count": 14
        }
      ]
    },
    {
      "cell_type": "markdown",
      "source": [
        "Question 4:\n",
        "Yes, we see this. Sequence 1 (Drosophila) has 455 whereas sequence 2 has only 99.\n",
        "This is indicated by the 7th amount in each list."
      ],
      "metadata": {
        "id": "F64mtd-19EEg"
      }
    }
  ]
}